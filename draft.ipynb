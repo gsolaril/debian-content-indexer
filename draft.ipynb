{
 "cells": [
  {
   "cell_type": "markdown",
   "metadata": {},
   "source": [
    "INSTRUCTIONS\n",
    "\n",
    "Debian uses *deb packages to deploy and upgrade software. The packages are stored in repositories and each repository contains the so called \"Contents index\". The format of that file is well described here https://wiki.debian.org/RepositoryFormat#A.22Contents.22_indices\n",
    "\n",
    "Your task is to develop a python command line tool that takes the architecture (amd64, arm64, mips etc.) as an argument and downloads the compressed Contents file associated with it from a Debian mirror. The program should parse the file and output the statistics of the top 10 packages that have the most files associated with them. An example output could be:\n",
    "\n",
    "./package_statistics.py amd64\n",
    "\n",
    "<br> \\<package name 1>         \\<number of files>\n",
    "<br> \\<package name 2>         \\<number of files>\n",
    "<br> ......\n",
    "<br> \\<package name 10>         \\<number of files>\n",
    "\n",
    "You can use the following Debian mirror: http://ftp.uk.debian.org/debian/dists/stable/main/. \n",
    "\n",
    "Please try to follow modern Python best practices in your solution (write your solution at the kind of standard you would yourself like to maintain and see from your colleagues). Hint: there are tools that can help you verify your code is compliant. In-line comments are appreciated.\n",
    "\n",
    "Please do your work in a local Git repository. Your repo should contain a README that explains your thought process and approach to the problem, and roughly how much time you spent on the exercise. When you are finished, create a tar.gz of your repo and submit it to the link included in this email. Please do not make the repository publicly available.\n",
    "\n",
    "Note: We are interested not only in quality code, but also in seeing your approach to the problem and how you organise your work."
   ]
  },
  {
   "cell_type": "code",
   "execution_count": 52,
   "metadata": {},
   "outputs": [
    {
     "data": {
      "text/plain": [
       "0                                         bin/abpoa\n",
       "1                                     bin/abpoa.avx\n",
       "2                                    bin/abpoa.avx2\n",
       "3                                 bin/abpoa.generic\n",
       "4                                    bin/abpoa.sse3\n",
       "                             ...                   \n",
       "1641380        var/spool/hylafax/config/zyxel-1496e\n",
       "1641381      var/spool/hylafax/config/zyxel-1496e-1\n",
       "1641382    var/spool/hylafax/config/zyxel-1496e-2.0\n",
       "1641383         var/spool/hylafax/config/zyxel-2864\n",
       "1641384                           var/yp/securenets\n",
       "Length: 1641385, dtype: object"
      ]
     },
     "execution_count": 52,
     "metadata": {},
     "output_type": "execute_result"
    }
   ],
   "source": [
    "filenames"
   ]
  },
  {
   "cell_type": "code",
   "execution_count": 58,
   "metadata": {},
   "outputs": [
    {
     "data": {
      "text/plain": [
       "package\n",
       "admin/0install                     [usr/lib/0install.net/gui_gtk.cmxs, usr/share/...\n",
       "admin/0install-core                [usr/bin/0alias, usr/bin/0desktop, usr/bin/0in...\n",
       "admin/9mount                       [usr/bin/9bind, usr/bin/9mount, usr/bin/9umoun...\n",
       "admin/abootimg                     [usr/bin/abootimg, usr/bin/abootimg-pack-initr...\n",
       "admin/accountsservice              [lib/systemd/system/accounts-daemon.service, u...\n",
       "                                                         ...                        \n",
       "zope/python3-zope.hookable         [usr/lib/python3/dist-packages/zope.hookable-5...\n",
       "zope/python3-zope.i18nmessageid    [usr/lib/python3/dist-packages/zope.i18nmessag...\n",
       "zope/python3-zope.interface        [usr/lib/python3/dist-packages/zope.interface-...\n",
       "zope/python3-zope.proxy            [usr/include/python3.11m/zope.proxy/proxy.h, u...\n",
       "zope/python3-zope.security         [usr/lib/python3/dist-packages/zope.security-5...\n",
       "Name: filename, Length: 32250, dtype: object"
      ]
     },
     "execution_count": 58,
     "metadata": {},
     "output_type": "execute_result"
    }
   ],
   "source": [
    "import os, sys, requests, gzip, io, platform, json\n",
    "from pandas import Series, Index\n",
    "\n",
    "URL_BASE = \"http://ftp.uk.debian.org/debian/dists/stable/main/Contents-{arc}.gz\"\n",
    "\n",
    "def get_content_from_arc(arc: str, save_txt = False):\n",
    "    \n",
    "    url = URL_BASE.format(arc = arc)\n",
    "    resp = requests.get(url = url, timeout = 30, stream = True)\n",
    "    with gzip.GzipFile(fileobj = io.BytesIO(resp.content)) as file_gz:\n",
    "        content = file_gz.read().decode(\"utf-8\", errors = \"ignore\")\n",
    "\n",
    "    if save_txt and (len(content) > 0):\n",
    "        filename = f\"Contents-{arc}.txt\"\n",
    "        with open(filename, \"w\") as file_txt:\n",
    "            file_txt.write(content)\n",
    "            \n",
    "    return content\n",
    "\n",
    "packages = get_content_from_arc(\"amd64\")\n",
    "packages = Series(packages.split(\"\\n\"))\n",
    "packages = packages.loc[packages != \"\"]\n",
    "packages = packages.str.split(\" +\")\n",
    "\n",
    "files = packages.str[: -1].str.join(\" \")\n",
    "files = Index(files, name = \"filename\")\n",
    "packages = packages.str[-1].str.split(\",\")\n",
    "\n",
    "packages = Series(packages.values, index = files, name = \"package\")\n",
    "\n",
    "packages = packages.explode().reset_index()\n",
    "packages = packages.groupby(\"package\")[\"filename\"].apply(list)\n",
    "packages"
   ]
  }
 ],
 "metadata": {
  "kernelspec": {
   "display_name": "Python 3",
   "language": "python",
   "name": "python3"
  },
  "language_info": {
   "codemirror_mode": {
    "name": "ipython",
    "version": 3
   },
   "file_extension": ".py",
   "mimetype": "text/x-python",
   "name": "python",
   "nbconvert_exporter": "python",
   "pygments_lexer": "ipython3",
   "version": "3.11.1"
  }
 },
 "nbformat": 4,
 "nbformat_minor": 2
}
